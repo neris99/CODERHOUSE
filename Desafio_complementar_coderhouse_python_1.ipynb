{
  "nbformat": 4,
  "nbformat_minor": 0,
  "metadata": {
    "colab": {
      "provenance": []
    },
    "kernelspec": {
      "name": "python3",
      "display_name": "Python 3"
    },
    "language_info": {
      "name": "python"
    }
  },
  "cells": [
    {
      "cell_type": "markdown",
      "source": [
        "Escreva um programa em Python que calcule o IMC (Índice de Massa Corporal) de uma pessoa. O programa deve solicitar ao usuário o peso em kg e a altura em metros, e em seguida, calcular e imprimir o valor do IMC:"
      ],
      "metadata": {
        "id": "juhfzuwAGeJ6"
      }
    },
    {
      "cell_type": "code",
      "execution_count": 4,
      "metadata": {
        "colab": {
          "base_uri": "https://localhost:8080/"
        },
        "id": "hmGcgFb2GCqB",
        "outputId": "9f96c65d-de13-4644-839e-5d58b6bed25f"
      },
      "outputs": [
        {
          "output_type": "stream",
          "name": "stdout",
          "text": [
            "Digite o seu peso: 74\n",
            "Digite a sua altura: 1.69\n",
            "O IMC é: 25.909456951787405\n"
          ]
        }
      ],
      "source": [
        "def calcular_imc(peso, altura):\n",
        "    imc = peso / (altura * altura)\n",
        "    return imc\n",
        "\n",
        "def main():\n",
        "    try:\n",
        "        peso = float(input(\"Digite o seu peso: \"))\n",
        "        altura = float(input(\"Digite a sua altura: Ex: 1.69 \"))\n",
        "\n",
        "        imc = calcular_imc(peso, altura)\n",
        "\n",
        "        print(\"O IMC é:\", imc)\n",
        "    except ValueError:\n",
        "        print(\"Valores inválidos. Certifique-se de inserir números válidos para peso e altura.\")\n",
        "\n",
        "if __name__ == \"__main__\":\n",
        "    main()\n"
      ]
    },
    {
      "cell_type": "markdown",
      "source": [
        "Faça um programa que crie uma lista vazia e permita que o usuário insira 5 números inteiros na lista."
      ],
      "metadata": {
        "id": "QH6S8NTtIKUd"
      }
    },
    {
      "cell_type": "code",
      "source": [
        "def main():\n",
        "    lista_numeros = []\n",
        "\n",
        "    for i in range(5):\n",
        "        try:\n",
        "            numero = int(input(f\"Digite o {i+1}º número inteiro: \"))\n",
        "            lista_numeros.append(numero)\n",
        "        except ValueError:\n",
        "            print(\"Valor inválido. Certifique-se de inserir um número inteiro.\")\n",
        "\n",
        "    print(\"Lista de números:\", lista_numeros)\n",
        "\n",
        "if __name__ == \"__main__\":\n",
        "    main()\n"
      ],
      "metadata": {
        "colab": {
          "base_uri": "https://localhost:8080/"
        },
        "id": "1dKCq_bXINOs",
        "outputId": "c0fd1ae0-896f-4666-8328-48865967bf88"
      },
      "execution_count": 5,
      "outputs": [
        {
          "output_type": "stream",
          "name": "stdout",
          "text": [
            "Digite o 1º número inteiro: 5\n",
            "Digite o 2º número inteiro: 4\n",
            "Digite o 3º número inteiro: 7\n",
            "Digite o 4º número inteiro: 8\n",
            "Digite o 5º número inteiro: 2\n",
            "Lista de números: [5, 4, 7, 8, 2]\n"
          ]
        }
      ]
    },
    {
      "cell_type": "markdown",
      "source": [
        "Faça um programa que peça ao usuário para digitar uma lista de nomes separados por vírgula e transforme essa lista em uma lista de strings:"
      ],
      "metadata": {
        "id": "KiZoLCoqIvkW"
      }
    },
    {
      "cell_type": "code",
      "source": [
        "def main():\n",
        "    entrada = input(\"Digite uma lista de nomes separados por vírgula: \")\n",
        "\n",
        "    nomes_lista = entrada.split(',')\n",
        "\n",
        "    nomes_lista = [nome.strip() for nome in nomes_lista]\n",
        "\n",
        "    print(\"Lista de nomes:\", nomes_lista)\n",
        "\n",
        "if __name__ == \"__main__\":\n",
        "    main()\n"
      ],
      "metadata": {
        "colab": {
          "base_uri": "https://localhost:8080/"
        },
        "id": "FyAm71LNIxfr",
        "outputId": "c8fd867e-d73e-4e25-ab47-df838d150889"
      },
      "execution_count": 6,
      "outputs": [
        {
          "output_type": "stream",
          "name": "stdout",
          "text": [
            "Digite uma lista de nomes separados por vírgula: marcelo,ana,bruno,guilherme\n",
            "Lista de nomes: ['marcelo', 'ana', 'bruno', 'guilherme']\n"
          ]
        }
      ]
    }
  ]
}