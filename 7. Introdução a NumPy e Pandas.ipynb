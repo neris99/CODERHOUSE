{
 "cells": [
  {
   "cell_type": "code",
   "execution_count": 2,
   "metadata": {},
   "outputs": [
    {
     "name": "stdout",
     "output_type": "stream",
     "text": [
      "[1 2 3 4 5 6 7]\n"
     ]
    }
   ],
   "source": [
    "import numpy as np\n",
    "\n",
    "my_array = np.array([1, 2, 3, 4, 5, 6, 7])\n",
    "print(my_array)"
   ]
  },
  {
   "cell_type": "code",
   "execution_count": 6,
   "metadata": {},
   "outputs": [
    {
     "data": {
      "text/html": [
       "<div>\n",
       "<style scoped>\n",
       "    .dataframe tbody tr th:only-of-type {\n",
       "        vertical-align: middle;\n",
       "    }\n",
       "\n",
       "    .dataframe tbody tr th {\n",
       "        vertical-align: top;\n",
       "    }\n",
       "\n",
       "    .dataframe thead th {\n",
       "        text-align: right;\n",
       "    }\n",
       "</style>\n",
       "<table border=\"1\" class=\"dataframe\">\n",
       "  <thead>\n",
       "    <tr style=\"text-align: right;\">\n",
       "      <th></th>\n",
       "      <th>teste</th>\n",
       "      <th>teste 2</th>\n",
       "    </tr>\n",
       "  </thead>\n",
       "  <tbody>\n",
       "    <tr>\n",
       "      <th>0</th>\n",
       "      <td>23</td>\n",
       "      <td>1</td>\n",
       "    </tr>\n",
       "    <tr>\n",
       "      <th>1</th>\n",
       "      <td>21</td>\n",
       "      <td>8</td>\n",
       "    </tr>\n",
       "    <tr>\n",
       "      <th>2</th>\n",
       "      <td>1</td>\n",
       "      <td>9</td>\n",
       "    </tr>\n",
       "  </tbody>\n",
       "</table>\n",
       "</div>"
      ],
      "text/plain": [
       "   teste  teste 2\n",
       "0     23        1\n",
       "1     21        8\n",
       "2      1        9"
      ]
     },
     "execution_count": 6,
     "metadata": {},
     "output_type": "execute_result"
    }
   ],
   "source": [
    "import pandas as pd\n",
    "\n",
    "meu_df = pd.DataFrame({'teste': [23,21,1],\n",
    "                       'teste 2': [1,8,9]\n",
    "                       })\n",
    "meu_df"
   ]
  },
  {
   "cell_type": "code",
   "execution_count": 9,
   "metadata": {},
   "outputs": [
    {
     "data": {
      "text/plain": [
       "0    1\n",
       "1    2\n",
       "2    3\n",
       "3    4\n",
       "4    5\n",
       "5    6\n",
       "6    7\n",
       "dtype: int32"
      ]
     },
     "execution_count": 9,
     "metadata": {},
     "output_type": "execute_result"
    }
   ],
   "source": [
    "pd.Series(my_array)"
   ]
  },
  {
   "cell_type": "code",
   "execution_count": 14,
   "metadata": {},
   "outputs": [
    {
     "name": "stdout",
     "output_type": "stream",
     "text": [
      "[87 49 59 17 22  2 82 91 70 27]\n",
      "int32\n"
     ]
    }
   ],
   "source": [
    "import numpy as np\n",
    "\n",
    "array_numpy = np.random.randint(0, 100, size=(10))\n",
    "\n",
    "print(array_numpy)\n",
    "print(array_numpy.dtype)"
   ]
  },
  {
   "cell_type": "code",
   "execution_count": 17,
   "metadata": {},
   "outputs": [
    {
     "name": "stdout",
     "output_type": "stream",
     "text": [
      "[[0.22035084 0.37780354 0.10726259 0.70168622 0.04238417]\n",
      " [0.26222484 0.92591003 0.99086122 0.75635247 0.0519909 ]\n",
      " [0.8654453  0.03510329 0.49867106 0.84833834 0.04083422]\n",
      " [0.45742838 0.08010363 0.15314472 0.13434149 0.36526346]\n",
      " [0.42469054 0.38198958 0.10037069 0.92785817 0.55015867]]\n",
      "O valor mínimo da matriz é: 0.03510329157798464\n",
      "O valor máximo da matriz é: 0.9908612196983303\n",
      "A média da matriz é: 0.412022734909151\n"
     ]
    }
   ],
   "source": [
    "import numpy as np\n",
    "\n",
    "array = np.random.rand(5, 5)\n",
    "print(array)\n",
    "\n",
    "min_value = np.min(array)\n",
    "max_value = np.max(array)\n",
    "mean_value = np.mean(array)\n",
    "\n",
    "print(\"O valor mínimo da matriz é:\", min_value)\n",
    "print(\"O valor máximo da matriz é:\", max_value)\n",
    "print(\"A média da matriz é:\", mean_value)\n"
   ]
  },
  {
   "cell_type": "code",
   "execution_count": 19,
   "metadata": {},
   "outputs": [
    {
     "name": "stdout",
     "output_type": "stream",
     "text": [
      "[0.01443225 0.45968729 0.18895533 0.00623846 0.00116362 0.6954167\n",
      " 0.07581678 0.84965693 0.3484174  0.88585067]\n",
      "[0 4 1 0 0 6 0 8 3 8]\n"
     ]
    }
   ],
   "source": [
    "import numpy as np\n",
    "\n",
    "array = np.random.rand(10)\n",
    "print(array)\n",
    "\n",
    "array_multiplicado = array * 10\n",
    "\n",
    "array_inteiro = array_multiplicado.astype('int32')\n",
    "\n",
    "print(array_inteiro)\n"
   ]
  },
  {
   "cell_type": "code",
   "execution_count": 22,
   "metadata": {},
   "outputs": [
    {
     "name": "stdout",
     "output_type": "stream",
     "text": [
      "[[6 0 3]\n",
      " [2 7 3]\n",
      " [1 2 5]]\n",
      "[[ 6  0  3]\n",
      " [-1 -1 -1]\n",
      " [ 1  2  5]]\n"
     ]
    }
   ],
   "source": [
    "import numpy as np\n",
    "\n",
    "array = np.random.randint(0, 10, size=(3, 3))\n",
    "print(array)\n",
    "\n",
    "array[1] = -1\n",
    "print(array)"
   ]
  },
  {
   "cell_type": "code",
   "execution_count": 23,
   "metadata": {},
   "outputs": [
    {
     "name": "stdout",
     "output_type": "stream",
     "text": [
      "    fruta  preco  quantidade\n",
      "0  Banana    7.9          12\n",
      "1    Maça   10.2           3\n",
      "2    Pera   11.8           4\n"
     ]
    }
   ],
   "source": [
    "import pandas as pd\n",
    "\n",
    "df = pd.DataFrame({\n",
    "    'fruta': ['Banana', 'Maça', 'Pera'],\n",
    "    'preco': [7.90, 10.20, 11.80],\n",
    "    'quantidade': [12, 3, 4]\n",
    "})\n",
    "\n",
    "print(df)"
   ]
  }
 ],
 "metadata": {
  "kernelspec": {
   "display_name": "Python 3",
   "language": "python",
   "name": "python3"
  },
  "language_info": {
   "codemirror_mode": {
    "name": "ipython",
    "version": 3
   },
   "file_extension": ".py",
   "mimetype": "text/x-python",
   "name": "python",
   "nbconvert_exporter": "python",
   "pygments_lexer": "ipython3",
   "version": "3.10.6"
  },
  "orig_nbformat": 4
 },
 "nbformat": 4,
 "nbformat_minor": 2
}
